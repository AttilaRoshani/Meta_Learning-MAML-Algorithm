{
 "cells": [
  {
   "cell_type": "code",
   "execution_count": null,
   "metadata": {},
   "outputs": [],
   "source": [
    "\n",
    "import os\n",
    "import torch\n",
    "import clip\n",
    "from torch.utils.data import DataLoader, Dataset\n",
    "from torchvision import transforms\n",
    "from sklearn.metrics import accuracy_score  # Import accuracy_score\n",
    "import numpy as np\n",
    "from PIL import Image"
   ]
  },
  {
   "cell_type": "code",
   "execution_count": 291,
   "metadata": {},
   "outputs": [],
   "source": [
    "device = \"cuda\" if torch.cuda.is_available() else \"cpu\"\n",
    "model, preprocess = clip.load(\"ViT-B/32\", device=device)"
   ]
  },
  {
   "cell_type": "code",
   "execution_count": 292,
   "metadata": {},
   "outputs": [],
   "source": [
    "class CustomImageDataset(Dataset):\n",
    "    def __init__(self, image_paths, labels, transform=None):\n",
    "        self.image_paths = image_paths\n",
    "        self.labels = labels\n",
    "        self.transform = transform\n",
    "\n",
    "    def __len__(self):\n",
    "        return len(self.image_paths)\n",
    "\n",
    "    def __getitem__(self, idx):\n",
    "        image = Image.open(self.image_paths[idx]).convert(\"RGB\")\n",
    "        label = self.labels[idx]\n",
    "        if self.transform:\n",
    "            image = self.transform(image)\n",
    "        return image, label"
   ]
  },
  {
   "cell_type": "code",
   "execution_count": 293,
   "metadata": {},
   "outputs": [],
   "source": [
    "\n",
    "# Prepare data\n",
    "super_dir = r'resources\\super'\n",
    "sadyek_dir = r'resources\\sadyek'"
   ]
  },
  {
   "cell_type": "code",
   "execution_count": null,
   "metadata": {},
   "outputs": [],
   "source": [
    "#importing image\n",
    "super_images = [os.path.join(super_dir, f) for f in os.listdir(super_dir) if f.endswith('.bmp')]\n",
    "sadyek_images = [os.path.join(sadyek_dir, f) for f in os.listdir(sadyek_dir) if f.endswith('.bmp')]\n",
    "train_size =8\n",
    "image_paths = super_images[:train_size] + sadyek_images[:train_size]\n",
    "labels = [0] * len(super_images[:train_size]) + [1] * len(sadyek_images[:train_size])  # 0 for super, 1 for sadyek\n"
   ]
  },
  {
   "cell_type": "code",
   "execution_count": null,
   "metadata": {},
   "outputs": [],
   "source": [
    "#load data\n",
    "dataset = CustomImageDataset(image_paths, labels, transform=preprocess)\n",
    "data_loader = DataLoader(dataset, batch_size=4, shuffle=True)\n"
   ]
  },
  {
   "cell_type": "code",
   "execution_count": null,
   "metadata": {},
   "outputs": [],
   "source": [
    "# Create text labels\n",
    "text_labels = [\"A dried fig with a smooth, unbroken surface, slightly flattened and firm.\",\n",
    " \"A dried fig with partially opened, darker segments, exposing its rich, chewy interior, slightly deformed yet irresistibly delicious.\"]\n",
    "text_inputs = torch.cat([clip.tokenize(label) for label in text_labels]).to(device)"
   ]
  },
  {
   "cell_type": "code",
   "execution_count": 297,
   "metadata": {},
   "outputs": [],
   "source": [
    "\n",
    "\n",
    "# Fine-tuning setup\n",
    "optimizer = torch.optim.Adam(model.parameters(), lr=.000003, weight_decay=1e-4)\n",
    "# criterion = torch.nn.BCEWithLogitsLoss()\n",
    "criterion = torch.nn.CrossEntropyLoss()"
   ]
  },
  {
   "cell_type": "code",
   "execution_count": null,
   "metadata": {},
   "outputs": [
    {
     "name": "stdout",
     "output_type": "stream",
     "text": [
      "Epoch [1/10], Loss: 1.2269\n",
      "Epoch [2/10], Loss: 0.7897\n",
      "Epoch [3/10], Loss: 0.2364\n",
      "Epoch [4/10], Loss: 0.3355\n",
      "Epoch [5/10], Loss: 0.0481\n",
      "Epoch [6/10], Loss: 0.0395\n",
      "Epoch [7/10], Loss: 0.0072\n",
      "Epoch [8/10], Loss: 0.0070\n",
      "Epoch [9/10], Loss: 0.0010\n",
      "Epoch [10/10], Loss: 0.0008\n"
     ]
    }
   ],
   "source": [
    "\n",
    "num_epochs = 10\n",
    "cnt =0\n",
    "for epoch in range(num_epochs):\n",
    "    model.train()   \n",
    "    for i, (images, targets) in enumerate(data_loader):\n",
    "        optimizer.zero_grad()\n",
    "        images, targets = images.to(device), targets.to(device)\n",
    "        # Encode images and text\n",
    "        image_features = model.encode_image(images).to(device)\n",
    "        text_features = model.encode_text(text_inputs).to(device)\n",
    "\n",
    "        logits_per_image = torch.matmul(image_features,text_features.T).to(device)\n",
    "        #compute loss\n",
    "        loss = criterion(logits_per_image, targets)\n",
    "\n",
    "        loss.backward()\n",
    "        optimizer.step()\n",
    "\n",
    "    print(f'Epoch [{epoch+1}/{num_epochs}], Loss: {loss.item():.4f}')\n"
   ]
  },
  {
   "cell_type": "code",
   "execution_count": 299,
   "metadata": {},
   "outputs": [],
   "source": [
    "# Evaluation function\n",
    "def evaluate(model, data_loader):\n",
    "    model.eval()\n",
    "    all_preds = []\n",
    "    all_labels = []\n",
    "    \n",
    "    with torch.no_grad():\n",
    "        for images, labels in data_loader:\n",
    "            images, labels = images.to(device), labels.to(device)\n",
    "            \n",
    "            # Encode images and text\n",
    "            image_features = model.encode_image(images)\n",
    "            text_features = model.encode_text(text_inputs)\n",
    "            \n",
    "            # Calculate similarities and logits\n",
    "            logits_per_image = image_features @ text_features.T\n",
    "            _, preds = torch.max(logits_per_image, 1)\n",
    "            all_preds.extend(preds.cpu().numpy())\n",
    "            all_labels.extend(labels.cpu().numpy())\n",
    "    \n",
    "    accuracy = accuracy_score(all_labels, all_preds)\n",
    "    return accuracy"
   ]
  },
  {
   "cell_type": "code",
   "execution_count": 300,
   "metadata": {},
   "outputs": [
    {
     "name": "stdout",
     "output_type": "stream",
     "text": [
      "Accuracy: 93.76%\n"
     ]
    }
   ],
   "source": [
    "\n",
    "image_paths = super_images + sadyek_images\n",
    "labels = [0] * len(super_images) + [1] * len(sadyek_images) \n",
    "dataset = CustomImageDataset(image_paths, labels, transform=preprocess)\n",
    "data_loader = DataLoader(dataset, batch_size=8, shuffle=False)\n",
    "# Calculate accuracy\n",
    "accuracy = evaluate(model, data_loader)\n",
    "print(f'Accuracy: {accuracy * 100:.2f}%')"
   ]
  }
 ],
 "metadata": {
  "kernelspec": {
   "display_name": "AI",
   "language": "python",
   "name": "python3"
  },
  "language_info": {
   "codemirror_mode": {
    "name": "ipython",
    "version": 3
   },
   "file_extension": ".py",
   "mimetype": "text/x-python",
   "name": "python",
   "nbconvert_exporter": "python",
   "pygments_lexer": "ipython3",
   "version": "3.8.19"
  }
 },
 "nbformat": 4,
 "nbformat_minor": 2
}
