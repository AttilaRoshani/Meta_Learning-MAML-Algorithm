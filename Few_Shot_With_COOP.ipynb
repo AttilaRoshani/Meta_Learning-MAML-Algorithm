{
 "cells": [
  {
   "cell_type": "code",
   "execution_count": 61,
   "metadata": {},
   "outputs": [],
   "source": [
    "import os\n",
    "import torch\n",
    "import clip\n",
    "from torch.utils.data import DataLoader, Dataset\n",
    "from torchvision import transforms\n",
    "from sklearn.metrics import accuracy_score\n",
    "from PIL import Image"
   ]
  },
  {
   "cell_type": "code",
   "execution_count": 62,
   "metadata": {},
   "outputs": [],
   "source": [
    "device = \"cuda\" if torch.cuda.is_available() else \"cpu\"\n",
    "# Load CLIP model\n",
    "model, preprocess = clip.load(\"ViT-B/32\", device=device)"
   ]
  },
  {
   "cell_type": "code",
   "execution_count": 63,
   "metadata": {},
   "outputs": [],
   "source": [
    "# Dataset class\n",
    "class CustomImageDataset(Dataset):\n",
    "    def __init__(self, image_paths, labels, transform=None):\n",
    "        self.image_paths = image_paths\n",
    "        self.labels = labels\n",
    "        self.transform = transform\n",
    "\n",
    "    def __len__(self):\n",
    "        return len(self.image_paths)\n",
    "\n",
    "    def __getitem__(self, idx):\n",
    "        image = Image.open(self.image_paths[idx]).convert(\"RGB\")\n",
    "        label = self.labels[idx]\n",
    "        if self.transform:\n",
    "            image = self.transform(image)\n",
    "        return image, label"
   ]
  },
  {
   "cell_type": "code",
   "execution_count": 64,
   "metadata": {},
   "outputs": [],
   "source": [
    "# Prepare data\n",
    "super_dir = r'resources\\super'\n",
    "sadyek_dir = r'resources\\sadyek'\n",
    "\n",
    "super_images = [os.path.join(super_dir, f) for f in os.listdir(super_dir) if f.endswith('.bmp')]\n",
    "sadyek_images = [os.path.join(sadyek_dir, f) for f in os.listdir(sadyek_dir) if f.endswith('.bmp')]\n",
    "\n",
    "train_size = 8\n",
    "image_paths = super_images[:train_size] + sadyek_images[:train_size]\n",
    "labels = [0] * train_size + [1] * train_size\n",
    "\n",
    "# Dataset and DataLoader\n",
    "dataset = CustomImageDataset(image_paths, labels, transform=preprocess)\n",
    "data_loader = DataLoader(dataset, batch_size=4, shuffle=True)"
   ]
  },
  {
   "cell_type": "code",
   "execution_count": 65,
   "metadata": {},
   "outputs": [],
   "source": [
    "context_length = 5\n",
    "class LearnableContext(torch.nn.Module):\n",
    "    def __init__(self, context_length, embedding_dim):\n",
    "        super().__init__()\n",
    "        self.context_tokens = torch.nn.Parameter(\n",
    "            torch.randn(context_length, embedding_dim) * 0.02\n",
    "        )  # Random initialization\n",
    "    \n",
    "    def forward(self, class_embeddings):\n",
    "        # Concatenate learnable context with class embeddings\n",
    "        return torch.cat([self.context_tokens, class_embeddings], dim=0)"
   ]
  },
  {
   "cell_type": "code",
   "execution_count": null,
   "metadata": {},
   "outputs": [
    {
     "name": "stdout",
     "output_type": "stream",
     "text": [
      "512\n",
      "torch.Size([5, 512])\n"
     ]
    }
   ],
   "source": [
    "# Initialize learnable context\n",
    "context = LearnableContext(context_length, model.token_embedding.weight.shape[1]).to(device)\n",
    "# Prepare class embeddings\n",
    "class_texts = [\"A dried fig with a smooth, unbroken surface.\", \n",
    "               \"A dried fig with partially opened segments exposing its interior.\"]\n",
    "class_embeddings = model.encode_text(clip.tokenize(class_texts).to(device))"
   ]
  },
  {
   "cell_type": "code",
   "execution_count": 67,
   "metadata": {},
   "outputs": [],
   "source": [
    "# Optimizer and loss function\n",
    "optimizer = torch.optim.Adam([context.context_tokens], lr=5*1e-2, weight_decay=1e-4)\n",
    "criterion = torch.nn.CrossEntropyLoss()"
   ]
  },
  {
   "cell_type": "code",
   "execution_count": 68,
   "metadata": {},
   "outputs": [
    {
     "name": "stdout",
     "output_type": "stream",
     "text": [
      "Epoch [1/12], Loss: 8.2494\n",
      "Epoch [2/12], Loss: 0.7945\n",
      "Epoch [3/12], Loss: 0.1216\n",
      "Epoch [4/12], Loss: 0.0192\n",
      "Epoch [5/12], Loss: 0.0016\n",
      "Epoch [6/12], Loss: 0.0121\n",
      "Epoch [7/12], Loss: 0.0022\n",
      "Epoch [8/12], Loss: 0.0010\n",
      "Epoch [9/12], Loss: 0.0008\n",
      "Epoch [10/12], Loss: 0.0026\n",
      "Epoch [11/12], Loss: 0.0022\n",
      "Epoch [12/12], Loss: 0.0051\n"
     ]
    }
   ],
   "source": [
    "# Training loop\n",
    "num_epochs = 12\n",
    "for epoch in range(num_epochs):\n",
    "    model.eval()  # Freeze CLIP model\n",
    "    context.train()  # Train only the context tokens\n",
    "\n",
    "    for images, targets in data_loader:\n",
    "        images, targets = images.to(device), targets.to(device)\n",
    "        optimizer.zero_grad()\n",
    "\n",
    "        # Encode images and context-augmented text\n",
    "        image_features = model.encode_image(images)\n",
    "        text_features = context(class_embeddings)  # Augmented with learnable context\n",
    "\n",
    "        # Calculate similarities and loss\n",
    "        logits_per_image = torch.matmul(image_features, text_features.T)\n",
    "        loss = criterion(logits_per_image, targets)\n",
    "\n",
    "        loss.backward(retain_graph=True)\n",
    "        optimizer.step()\n",
    "    \n",
    "    print(f\"Epoch [{epoch+1}/{num_epochs}], Loss: {loss.item():.4f}\")"
   ]
  },
  {
   "cell_type": "code",
   "execution_count": 69,
   "metadata": {},
   "outputs": [],
   "source": [
    "def evaluate(model, context, data_loader):\n",
    "    model.eval()\n",
    "    context.eval()\n",
    "    all_preds, all_labels = [], []\n",
    "\n",
    "    with torch.no_grad():\n",
    "        for images, labels in data_loader:\n",
    "            images, labels = images.to(device), labels.to(device)\n",
    "\n",
    "            # Encode images and context-augmented text\n",
    "            image_features = model.encode_image(images)\n",
    "            text_features = context(class_embeddings)\n",
    "\n",
    "            logits_per_image = torch.matmul(image_features, text_features.T)\n",
    "            _, preds = torch.max(logits_per_image, 1)\n",
    "            \n",
    "            all_preds.extend(preds.cpu().numpy())\n",
    "            all_labels.extend(labels.cpu().numpy())\n",
    "\n",
    "    accuracy = accuracy_score(all_labels, all_preds)\n",
    "    return accuracy"
   ]
  },
  {
   "cell_type": "code",
   "execution_count": 70,
   "metadata": {},
   "outputs": [
    {
     "name": "stdout",
     "output_type": "stream",
     "text": [
      "Accuracy: 83.90%\n"
     ]
    }
   ],
   "source": [
    "# Evaluate on all data\n",
    "full_image_paths = super_images + sadyek_images\n",
    "full_labels = [0] * len(super_images) + [1] * len(sadyek_images)\n",
    "full_dataset = CustomImageDataset(full_image_paths, full_labels, transform=preprocess)\n",
    "full_loader = DataLoader(full_dataset, batch_size=8, shuffle=False)\n",
    "\n",
    "accuracy = evaluate(model, context, full_loader)\n",
    "print(f\"Accuracy: {accuracy * 100:.2f}%\")"
   ]
  }
 ],
 "metadata": {
  "kernelspec": {
   "display_name": "AI",
   "language": "python",
   "name": "python3"
  },
  "language_info": {
   "codemirror_mode": {
    "name": "ipython",
    "version": 3
   },
   "file_extension": ".py",
   "mimetype": "text/x-python",
   "name": "python",
   "nbconvert_exporter": "python",
   "pygments_lexer": "ipython3",
   "version": "3.8.19"
  }
 },
 "nbformat": 4,
 "nbformat_minor": 2
}
